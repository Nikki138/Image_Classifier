{
  "nbformat": 4,
  "nbformat_minor": 0,
  "metadata": {
    "colab": {
      "name": "result.ipynb",
      "provenance": [],
      "mount_file_id": "1HJ2CcYyPKfhsN-3jijnRZhI1nUlsTH2f",
      "authorship_tag": "ABX9TyOLOTGAb+I6QKn9lGmE614P",
      "include_colab_link": true
    },
    "kernelspec": {
      "name": "python3",
      "display_name": "Python 3"
    }
  },
  "cells": [
    {
      "cell_type": "markdown",
      "metadata": {
        "id": "view-in-github",
        "colab_type": "text"
      },
      "source": [
        "<a href=\"https://colab.research.google.com/github/Nikki138/Image_Classifier/blob/master/result.ipynb\" target=\"_parent\"><img src=\"https://colab.research.google.com/assets/colab-badge.svg\" alt=\"Open In Colab\"/></a>"
      ]
    },
    {
      "cell_type": "code",
      "metadata": {
        "id": "JxSN_yFwfrDr",
        "colab_type": "code",
        "colab": {
          "base_uri": "https://localhost:8080/",
          "height": 487
        },
        "outputId": "3df3dba0-018f-4673-9608-4dbe814b0468"
      },
      "source": [
        "import cv2\n",
        "import tensorflow as tf\n",
        "import os\n",
        "from os import listdir\n",
        "\n",
        "CATEGORIES = [\"Dog\", \"Cat\"]  # will use this to convert prediction num to string value\n",
        "\n",
        "\n",
        "def prepare(filepath):\n",
        "    IMG_SIZE = 50  # 50 in txt-based\n",
        "    img_array = cv2.imread(filepath, cv2.IMREAD_GRAYSCALE)  # read in the image, convert to grayscale\n",
        "    new_array = cv2.resize(img_array, (IMG_SIZE, IMG_SIZE))  # resize image to match model's expected sizing\n",
        "    return new_array.reshape(-1, IMG_SIZE, IMG_SIZE, 1)\n",
        "\n",
        "model = tf.keras.models.load_model(\"/content/drive/My Drive/cat-vs-dog.model\")\n",
        "\n",
        "predict_dir_path='/content/drive/My Drive/Colab Notebooks/testlite/'\n",
        "onlyfiles = [f for f in listdir(predict_dir_path) if os.path.isfile(os.path.join(predict_dir_path, f))]\n",
        "\n",
        "for file in onlyfiles:\n",
        "    prediction = model.predict([prepare(predict_dir_path+file)])\n",
        "    print(file + ':' + CATEGORIES[int(prediction[0][0])])\n"
      ],
      "execution_count": null,
      "outputs": [
        {
          "output_type": "stream",
          "text": [
            "40.jpg:Cat\n",
            "50.jpg:Dog\n",
            "41.jpg:Dog\n",
            "45.jpg:Cat\n",
            "47.jpg:Dog\n",
            "46.jpg:Dog\n",
            "55.jpg:Dog\n",
            "38.jpg:Cat\n",
            "51.jpg:Cat\n",
            "49.jpg:Dog\n",
            "35.jpg:Dog\n",
            "48.jpg:Dog\n",
            "44.jpg:Cat\n",
            "57.jpg:Dog\n",
            "54.jpg:Cat\n",
            "53.jpg:Cat\n",
            "37.jpg:Dog\n",
            "52.jpg:Dog\n",
            "56.jpg:Cat\n",
            "42.jpg:Dog\n",
            "43.jpg:Dog\n",
            "39.jpg:Dog\n",
            "36.jpg:Dog\n",
            "58.jpg:Cat\n",
            "download.jpg:Dog\n",
            "download (1).jpg:Cat\n",
            "download (2).jpg:Dog\n",
            "google_cat.jpg:Cat\n"
          ],
          "name": "stdout"
        }
      ]
    }
  ]
}