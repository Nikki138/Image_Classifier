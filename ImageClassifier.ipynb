{
  "nbformat": 4,
  "nbformat_minor": 0,
  "metadata": {
    "colab": {
      "name": "ImageClassifier.ipynb",
      "provenance": [],
      "collapsed_sections": [],
      "mount_file_id": "1HZ3liMa0gPm34_nsiC4A7uxBY0ZUCkT-",
      "authorship_tag": "ABX9TyNGC5F088guvUeBXh5Kl1w6",
      "include_colab_link": true
    },
    "kernelspec": {
      "name": "python3",
      "display_name": "Python 3"
    }
  },
  "cells": [
    {
      "cell_type": "markdown",
      "metadata": {
        "id": "view-in-github",
        "colab_type": "text"
      },
      "source": [
        "<a href=\"https://colab.research.google.com/github/Nikki138/Image_Classifier/blob/master/ImageClassifier.ipynb\" target=\"_parent\"><img src=\"https://colab.research.google.com/assets/colab-badge.svg\" alt=\"Open In Colab\"/></a>"
      ]
    },
    {
      "cell_type": "code",
      "metadata": {
        "id": "lVb4GYmnvift",
        "colab_type": "code",
        "colab": {}
      },
      "source": [
        "import numpy as np  #various array operations\n",
        "import matplotlib.pyplot as plt\n",
        "import os\n",
        "import cv2  # various image operations\n",
        "\n",
        "DataDir = \"/content/drive/My Drive/Colab Notebooks/kagglecatsanddogs_3367a/PetImages\"\n",
        "Categories = [\"Dog\",\"Cat\"]\n",
        "\n",
        "img_size = 50"
      ],
      "execution_count": null,
      "outputs": []
    },
    {
      "cell_type": "code",
      "metadata": {
        "id": "-W3jCQB47FWK",
        "colab_type": "code",
        "colab": {}
      },
      "source": [
        "training_data = []\n",
        "\n",
        "def create_training_data():\n",
        "  for category in Categories:\n",
        "    path = os.path.join(DataDir, category)\n",
        "    class_num = Categories.index(category) \n",
        "    for img in os.listdir(path):\n",
        "      try:\n",
        "        image_array = cv2.imread(os.path.join(path,img),cv2.IMREAD_GRAYSCALE)\n",
        "        new_array = cv2.resize(image_array, (img_size, img_size))\n",
        "        training_data.append([new_array,class_num])\n",
        "      except Exception as e:\n",
        "        pass\n",
        "\n",
        "create_training_data()"
      ],
      "execution_count": null,
      "outputs": []
    },
    {
      "cell_type": "code",
      "metadata": {
        "id": "eI4uNG2A9wIZ",
        "colab_type": "code",
        "colab": {}
      },
      "source": [
        "import random\n",
        "random.shuffle(training_data)"
      ],
      "execution_count": null,
      "outputs": []
    },
    {
      "cell_type": "code",
      "metadata": {
        "id": "0tXCId50-JHm",
        "colab_type": "code",
        "colab": {}
      },
      "source": [
        "X = []\n",
        "Y = []\n",
        "for features, label in training_data:\n",
        "  X.append(features)\n",
        "  Y.append(label)\n",
        "\n",
        "X = np.array(X).reshape(-1,img_size,img_size,1)   # 1 for grayscale for rgb(coloured image) 3 \n",
        "Y = np.array(Y)                                   "
      ],
      "execution_count": null,
      "outputs": []
    },
    {
      "cell_type": "code",
      "metadata": {
        "id": "8Zzi636N_yu_",
        "colab_type": "code",
        "colab": {}
      },
      "source": [
        "import pickle\n",
        "\n",
        "pickle_out = open(\"X.pickle\",\"wb\")\n",
        "pickle.dump(X,pickle_out)\n",
        "pickle_out.close()\n",
        "\n",
        "pickle_out = open(\"Y.pickle\",\"wb\")\n",
        "pickle.dump(Y,pickle_out)\n",
        "pickle_out.close()"
      ],
      "execution_count": null,
      "outputs": []
    }
  ]
}